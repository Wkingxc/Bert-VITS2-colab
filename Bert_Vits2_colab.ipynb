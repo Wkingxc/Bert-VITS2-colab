{
  "cells": [
    {
      "cell_type": "code",
      "execution_count": null,
      "metadata": {
        "colab": {
          "base_uri": "https://localhost:8080/"
        },
        "id": "ZT1ZvJc4-Nks",
        "outputId": "17e09c1e-e7e7-4972-854e-ca9529625f6c"
      },
      "outputs": [],
      "source": [
        "# 本文件为colab环境下的脚本文件副本\n",
        "!git clone https://github.com/Wkingxc/Bert-Vits2-Colab"
      ]
    },
    {
      "cell_type": "code",
      "execution_count": 3,
      "metadata": {
        "colab": {
          "base_uri": "https://localhost:8080/"
        },
        "id": "9SgDIpKH91ba",
        "outputId": "bb102d44-6bc3-4b21-9a65-3f4e5d229ca9"
      },
      "outputs": [
        {
          "name": "stdout",
          "output_type": "stream",
          "text": [
            "/content/Bert-Vits2-Colab\n"
          ]
        }
      ],
      "source": [
        "# c_name为角色音频文件保持和谷歌硬盘文件一致，实验目录统一为EX1\n",
        "c_name = \"希儿.zip\"\n",
        "# 创建目录\n",
        "%cd /content/Bert-Vits2-Colab/\n",
        "!mkdir -p ./Data/EX1/filelists/\n",
        "!mkdir -p ./Data/EX1/models/\n",
        "!mkdir -p ./Data/EX1/raw/\n",
        "!mkdir -p ./Data/EX1/wavs/\n",
        "# 从谷歌硬盘拷贝音频和台词文件\n",
        "%cd ./Data/EX1/raw/\n",
        "# https://drive.google.com/file/d/1mqB9gwS7r_nRjgAUtiqfD4GlGPGpD_R_/view?usp=drive_link\n",
        "!gdown 'https://drive.google.com/uc?id=1mqB9gwS7r_nRjgAUtiqfD4GlGPGpD_R_'\n",
        "!unzip ./$c_name\n",
        "%cd /content/Bert-Vits2-Colab/"
      ]
    },
    {
      "cell_type": "code",
      "execution_count": null,
      "metadata": {
        "colab": {
          "base_uri": "https://localhost:8080/"
        },
        "id": "atRCCFpoTd6E",
        "outputId": "9affa76d-0e53-4ef0-a5c4-35629c60c0db"
      },
      "outputs": [],
      "source": [
        "!pip install -r ./requirements.txt -q"
      ]
    },
    {
      "cell_type": "code",
      "execution_count": null,
      "metadata": {
        "id": "tKmJqXLVAsny"
      },
      "outputs": [],
      "source": [
        "!echo \"=====下载 bert=====\"\n",
        "!wget -P ./bert/chinese-roberta-wwm-ext-large/ https://huggingface.co/hfl/chinese-roberta-wwm-ext-large/resolve/main/pytorch_model.bin\n",
        "!wget -P ./bert/deberta-v2-large-japanese-char-wwm/ https://huggingface.co/ku-nlp/deberta-v2-large-japanese-char-wwm/resolve/main/pytorch_model.bin\n",
        "!wget -P ./bert/deberta-v3-large/ https://huggingface.co/microsoft/deberta-v3-large/resolve/main/pytorch_model.bin\n",
        "!wget -P ./bert/deberta-v3-large/ https://huggingface.co/microsoft/deberta-v3-large/resolve/main/pytorch_model.generator.bin\n",
        "!wget -P ./bert/deberta-v3-large/ https://huggingface.co/microsoft/deberta-v3-large/resolve/main/spm.model\n",
        "!wget -P ./bert/Erlangshen-MegatronBert-1.3B-Chinese https://huggingface.co/IDEA-CCNL/Erlangshen-MegatronBert-1.3B/resolve/main/pytorch_model.bin\n",
        "# !cp /content/drive/MyDrive/pytorch_model.bin /content/Bert-Vits2-Colab/bert/Erlangshen-MegatronBert-1.3B-Chinese/\n",
        "\n",
        "!echo \"====下载slm====\"\n",
        "!wget -P ./slm/wavlm-base-plus/ https://huggingface.co/microsoft/wavlm-base-plus/resolve/main/pytorch_model.bin\n",
        "!wget -P ./emotional/clap-htsat-fused https://huggingface.co/laion/clap-htsat-fused/resolve/main/pytorch_model.bin\n",
        "\n",
        "!echo \"====下载中文特化底膜====\"\n",
        "!wget -P \"./Data/EX1/models/\" https://huggingface.co/guiyun/Bert-VITS2-chinese/resolve/main/D_0.pth\n",
        "!wget -P \"./Data/EX1/models/\" https://huggingface.co/guiyun/Bert-VITS2-chinese/resolve/main/G_0.pth\n",
        "!wget -P \"./Data/EX1/models/\" https://huggingface.co/guiyun/Bert-VITS2-chinese/resolve/main/WD_0.pth\n",
        "\n",
        "# 如果是接着训练，请想办法上传这三个文件到models目录下\n"
      ]
    },
    {
      "cell_type": "code",
      "execution_count": null,
      "metadata": {
        "colab": {
          "base_uri": "https://localhost:8080/"
        },
        "id": "B5SVZKwfJWJC",
        "outputId": "b33146c1-a1db-44ee-81f9-c6769b7b68be"
      },
      "outputs": [],
      "source": [
        "# 下面正式开始训练步骤\n",
        "!nvidia-smi"
      ]
    },
    {
      "cell_type": "code",
      "execution_count": null,
      "metadata": {},
      "outputs": [],
      "source": [
        "# 配置config.json和config.yaml\n",
        "# 默认500步保存一次，最多保存3个模型\n",
        "%cd ./Data/EX1/\n",
        "!python set_batch.py -b 6 # 指定batch_size\n",
        "!python set_yml.py -b 2 -e 2 -t 2 # 指定bert_gen、clap_gen、train时训练集加载线程数\n",
        "%cd ../../"
      ]
    },
    {
      "cell_type": "code",
      "execution_count": null,
      "metadata": {
        "colab": {
          "base_uri": "https://localhost:8080/"
        },
        "id": "OljFOvDPUZjE",
        "outputId": "083c780b-079f-45e2-ac3f-bc02fafeb0ae"
      },
      "outputs": [],
      "source": [
        "!python trans_wav_lab.py"
      ]
    },
    {
      "cell_type": "code",
      "execution_count": null,
      "metadata": {
        "colab": {
          "base_uri": "https://localhost:8080/"
        },
        "id": "BGxyMLLOI4Uz",
        "outputId": "e1257c29-0411-4dd8-e826-7964bec1f5b0"
      },
      "outputs": [],
      "source": [
        "!python preprocess_text.py"
      ]
    },
    {
      "cell_type": "code",
      "execution_count": null,
      "metadata": {
        "colab": {
          "base_uri": "https://localhost:8080/"
        },
        "id": "DOAg3awaLSKn",
        "outputId": "4c5694f7-6359-43f1-ef7b-00cfe3978134"
      },
      "outputs": [],
      "source": [
        "!python bert_gen.py"
      ]
    },
    {
      "cell_type": "code",
      "execution_count": null,
      "metadata": {
        "colab": {
          "base_uri": "https://localhost:8080/"
        },
        "id": "vTLoqtUSMgTO",
        "outputId": "9742e0bc-6293-4df2-9596-1fe72641c727"
      },
      "outputs": [],
      "source": [
        "!python clap_gen.py"
      ]
    },
    {
      "cell_type": "code",
      "execution_count": null,
      "metadata": {
        "colab": {
          "base_uri": "https://localhost:8080/"
        },
        "id": "kneNJH-iUhOS",
        "outputId": "fe5583bc-506b-4661-cb61-effc18eaea19"
      },
      "outputs": [],
      "source": [
        "!python train_ms.py"
      ]
    }
  ],
  "metadata": {
    "accelerator": "GPU",
    "colab": {
      "gpuType": "T4",
      "machine_shape": "hm",
      "provenance": []
    },
    "kernelspec": {
      "display_name": "Python 3",
      "name": "python3"
    },
    "language_info": {
      "name": "python"
    }
  },
  "nbformat": 4,
  "nbformat_minor": 0
}
